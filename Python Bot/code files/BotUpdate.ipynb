{
 "cells": [
  {
   "cell_type": "code",
   "execution_count": 2,
   "metadata": {},
   "outputs": [],
   "source": [
    "from selenium import webdriver\n",
    "from webdriver_manager.chrome import ChromeDriverManager\n",
    "import pandas as pd\n",
    "from selenium.webdriver.common.keys import Keys\n",
    "from bs4 import BeautifulSoup\n",
    "import re\n",
    "import os\n",
    "from selenium.webdriver.support.ui import Select\n",
    "import time\n",
    "import csv\n",
    "from csv import DictWriter "
   ]
  },
  {
   "cell_type": "code",
   "execution_count": 3,
   "metadata": {},
   "outputs": [],
   "source": [
    "column_name = [\"Reg ID\", \"Emp. Name\", \"Fathers Name\", \"P.ID\", \"Gender\", \"Designation\", \"BPS\", \"Type\", \"SEMIS ID (DC)\", \"Inst. Name (DC)\", \"District (DC)\", \"SEMIS ID (M&E)\", \"Inst. Name (M&E)\", \"District (M&E)\", \"Status\" ] \n",
    "\n",
    "# Read Record Set\n",
    "data_f = pd.read_csv(r'E:/DGME/records.csv')\n",
    "\n",
    "dict = {}"
   ]
  },
  {
   "cell_type": "code",
   "execution_count": 6,
   "metadata": {},
   "outputs": [
    {
     "name": "stderr",
     "output_type": "stream",
     "text": [
      "[WDM] - ====== WebDriver manager ======\n",
      "[WDM] - Current google-chrome version is 89.0.4389\n",
      "[WDM] - Get LATEST driver version for 89.0.4389\n"
     ]
    },
    {
     "name": "stdout",
     "output_type": "stream",
     "text": [
      "\n",
      "\n"
     ]
    },
    {
     "name": "stderr",
     "output_type": "stream",
     "text": [
      "[WDM] - Driver [C:\\Users\\Dell\\.wdm\\drivers\\chromedriver\\win32\\89.0.4389.23\\chromedriver.exe] found in cache\n"
     ]
    },
    {
     "data": {
      "text/html": [
       "<div>\n",
       "<style scoped>\n",
       "    .dataframe tbody tr th:only-of-type {\n",
       "        vertical-align: middle;\n",
       "    }\n",
       "\n",
       "    .dataframe tbody tr th {\n",
       "        vertical-align: top;\n",
       "    }\n",
       "\n",
       "    .dataframe thead th {\n",
       "        text-align: right;\n",
       "    }\n",
       "</style>\n",
       "<table border=\"1\" class=\"dataframe\">\n",
       "  <thead>\n",
       "    <tr style=\"text-align: right;\">\n",
       "      <th></th>\n",
       "      <th>CNIC</th>\n",
       "    </tr>\n",
       "  </thead>\n",
       "  <tbody>\n",
       "    <tr>\n",
       "      <th>0</th>\n",
       "      <td>4420418756066</td>\n",
       "    </tr>\n",
       "    <tr>\n",
       "      <th>1</th>\n",
       "      <td>4310452834797</td>\n",
       "    </tr>\n",
       "    <tr>\n",
       "      <th>2</th>\n",
       "      <td>4420312189559</td>\n",
       "    </tr>\n",
       "    <tr>\n",
       "      <th>3</th>\n",
       "      <td>4110588417127</td>\n",
       "    </tr>\n",
       "    <tr>\n",
       "      <th>4</th>\n",
       "      <td>4320631282535</td>\n",
       "    </tr>\n",
       "    <tr>\n",
       "      <th>5</th>\n",
       "      <td>4230150611751</td>\n",
       "    </tr>\n",
       "    <tr>\n",
       "      <th>6</th>\n",
       "      <td>4410701762771</td>\n",
       "    </tr>\n",
       "    <tr>\n",
       "      <th>7</th>\n",
       "      <td>4220137705854</td>\n",
       "    </tr>\n",
       "    <tr>\n",
       "      <th>8</th>\n",
       "      <td>4520462621437</td>\n",
       "    </tr>\n",
       "    <tr>\n",
       "      <th>9</th>\n",
       "      <td>4410152593757</td>\n",
       "    </tr>\n",
       "  </tbody>\n",
       "</table>\n",
       "</div>"
      ],
      "text/plain": [
       "            CNIC\n",
       "0  4420418756066\n",
       "1  4310452834797\n",
       "2  4420312189559\n",
       "3  4110588417127\n",
       "4  4320631282535\n",
       "5  4230150611751\n",
       "6  4410701762771\n",
       "7  4220137705854\n",
       "8  4520462621437\n",
       "9  4410152593757"
      ]
     },
     "execution_count": 6,
     "metadata": {},
     "output_type": "execute_result"
    }
   ],
   "source": [
    "url = \"http://checker.sindheducation.gov.pk/CheckBiometrics.aspx\"\n",
    "\n",
    "# create a new Chrome session\n",
    "driver = webdriver.Chrome(ChromeDriverManager().install())\n",
    "\n",
    "# driver = webdriver.Firefox(executable_path='E:/geckodriver-v0.29.0-win64/geckodriver.exe')\n",
    "driver.get(url)\n",
    "driver.implicitly_wait(5)\n",
    "\n",
    "# read data_file\n",
    "#data_f = data_f[0:]\n",
    "data_f = data_f[0:100]\n",
    "data_f # 393025\n"
   ]
  },
  {
   "cell_type": "markdown",
   "metadata": {},
   "source": [
    "##### Get & Push All Records"
   ]
  },
  {
   "cell_type": "code",
   "execution_count": 7,
   "metadata": {},
   "outputs": [
    {
     "name": "stdout",
     "output_type": "stream",
     "text": [
      "Completed\n"
     ]
    }
   ],
   "source": [
    "# Search DDL\n",
    "search_ddl = driver.find_element_by_id(\"ContentPlaceHolder1_ddlSearchBy\")\n",
    "select = Select(search_ddl)\n",
    "select.select_by_index(1)\n",
    "time.sleep(4)\n",
    "data = True\n",
    "for index, row in data_f.iterrows():\n",
    "    search_text = driver.find_element_by_id(\"ContentPlaceHolder1_txtSearch\")\n",
    "    search_text.click()\n",
    "    search_text.clear()\n",
    "    search_text.send_keys(row['CNIC'])\n",
    "    search_text.send_keys(Keys.ENTER)\n",
    "    time.sleep(1)\n",
    "    search_button = driver.find_element_by_id(\"ContentPlaceHolder1_btn_search\")\n",
    "    search_button.click()\n",
    "    time.sleep(6)\n",
    "    for i in range(0,15):\n",
    "        try:\n",
    "            data_set = driver.find_element_by_xpath('//*[@id=\"ContentPlaceHolder1_gvDCDetails\"]/tbody/tr[2]/td['+str(i+1)+']')\n",
    "            dict[column_name[i]] = data_set.get_attribute('innerText')\n",
    "            data = True\n",
    "        except:\n",
    "            data=False\n",
    "            break\n",
    "    if data:\n",
    "        with open(r'D:\\RecordSet.csv', 'a',newline='') as f_object:\n",
    "            dictwriter_object = csv.DictWriter(f_object, fieldnames=column_name)\n",
    "            if index==1:\n",
    "                dictwriter_object.writeheader()\n",
    "            dictwriter_object.writerow(dict)\n",
    "            dict.clear()\n",
    "        \n",
    "driver.quit();\n",
    "print(\"Completed\")"
   ]
  },
  {
   "cell_type": "markdown",
   "metadata": {},
   "source": [
    "##### Get and Push Selected Record Set"
   ]
  },
  {
   "cell_type": "code",
   "execution_count": 10,
   "metadata": {},
   "outputs": [
    {
     "name": "stderr",
     "output_type": "stream",
     "text": [
      "[WDM] - ====== WebDriver manager ======\n",
      "[WDM] - Current google-chrome version is 89.0.4389\n",
      "[WDM] - Get LATEST driver version for 89.0.4389\n"
     ]
    },
    {
     "name": "stdout",
     "output_type": "stream",
     "text": [
      "\n",
      "\n"
     ]
    },
    {
     "name": "stderr",
     "output_type": "stream",
     "text": [
      "[WDM] - Driver [C:\\Users\\Dell\\.wdm\\drivers\\chromedriver\\win32\\89.0.4389.23\\chromedriver.exe] found in cache\n"
     ]
    },
    {
     "name": "stdout",
     "output_type": "stream",
     "text": [
      "Completed\n"
     ]
    }
   ],
   "source": [
    "from selenium import webdriver\n",
    "from webdriver_manager.chrome import ChromeDriverManager\n",
    "import pandas as pd\n",
    "from selenium.webdriver.common.keys import Keys\n",
    "from bs4 import BeautifulSoup\n",
    "import re\n",
    "import os\n",
    "from selenium.webdriver.support.ui import Select\n",
    "import time\n",
    "import csv\n",
    "from csv import DictWriter\n",
    "\n",
    "\n",
    "column_name = [\"CNIC\", \"Status\"]\n",
    "\n",
    "data_f = pd.read_csv(r'E:/DGME/records.csv')\n",
    "\n",
    "dict = {}\n",
    "\n",
    "url = \"http://checker.sindheducation.gov.pk/CheckBiometrics.aspx\"\n",
    "\n",
    "# create a new Chrome session\n",
    "driver = webdriver.Chrome(ChromeDriverManager().install())\n",
    "\n",
    "# driver = webdriver.Firefox(executable_path='E:/geckodriver-v0.29.0-win64/geckodriver.exe')\n",
    "driver.get(url)\n",
    "driver.implicitly_wait(5)\n",
    "\n",
    "# read data_file\n",
    "#data_f = data_f[0:]\n",
    "data_f = data_f[0:100]\n",
    "data_f # 393025\n",
    "\n",
    "# Search DDL\n",
    "search_ddl = driver.find_element_by_id(\"ContentPlaceHolder1_ddlSearchBy\")\n",
    "select = Select(search_ddl)\n",
    "select.select_by_index(1)\n",
    "time.sleep(4)\n",
    "data = True\n",
    "for index, row in data_f.iterrows():\n",
    "    search_text = driver.find_element_by_id(\"ContentPlaceHolder1_txtSearch\")\n",
    "    search_text.click()\n",
    "    search_text.clear()\n",
    "    search_text.send_keys(row['CNIC'])\n",
    "    search_text.send_keys(Keys.ENTER)\n",
    "    time.sleep(1)\n",
    "    search_button = driver.find_element_by_id(\"ContentPlaceHolder1_btn_search\")\n",
    "    search_button.click()\n",
    "    time.sleep(6)\n",
    "\n",
    "    try:\n",
    "        data_set = driver.find_element_by_xpath(\n",
    "            '//*[@id=\"ContentPlaceHolder1_gvDCDetails\"]/tbody/tr[2]/td[15]')\n",
    "        dict[column_name[0]] = row['CNIC']\n",
    "        dict[column_name[1]] = data_set.get_attribute('innerText')\n",
    "        # data = True\n",
    "    except:\n",
    "        dict[column_name[0]] = row['CNIC']\n",
    "        dict[column_name[1]] = 'Unmatched'\n",
    "        # data = False\n",
    "        # break\n",
    "\n",
    "    with open(r'D:\\StatusReport.csv', 'a', newline='') as f_object:\n",
    "        dictwriter_object = csv.DictWriter(f_object, fieldnames=column_name)\n",
    "        if index == 0:\n",
    "            dictwriter_object.writeheader()\n",
    "        dictwriter_object.writerow(dict)\n",
    "        dict.clear()\n",
    "\n",
    "driver.quit();\n",
    "print(\"Completed\")"
   ]
  },
  {
   "cell_type": "markdown",
   "metadata": {},
   "source": [
    "##### Write Active Status Record Set"
   ]
  },
  {
   "cell_type": "code",
   "execution_count": 94,
   "metadata": {},
   "outputs": [],
   "source": [
    "from selenium import webdriver\n",
    "from webdriver_manager.chrome import ChromeDriverManager\n",
    "import pandas as pd\n",
    "from selenium.webdriver.common.keys import Keys\n",
    "from bs4 import BeautifulSoup\n",
    "import re\n",
    "import os\n",
    "from selenium.webdriver.support.ui import Select\n",
    "import time\n",
    "import csv\n",
    "from csv import DictWriter\n",
    "from collections import OrderedDict\n",
    "import xlsxwriter\n",
    "import dask.dataframe as dd\n",
    "\n",
    "column_name = [\"CNIC\", \"Status\"]\n",
    "columns = [\"CNIC\", \"Active_ind\",\"Cadre\"]\n",
    "dict = {}\n",
    "\n",
    "\n",
    "#data_f = pd.read_excel(r'E:/DGME/allteachers.xlsx', usecols = columns)\n",
    "# data_f[0:10]\n",
    "chunksize = 10 ** 6\n",
    "#for chunk in pd.read_csv(filename, chunksize=chunksize):\n",
    "data_f = pd.read_csv(r'E:/DGME/allteachers.csv', usecols = columns, low_memory=False)\n",
    "#data_f[0:50]"
   ]
  },
  {
   "cell_type": "code",
   "execution_count": 98,
   "metadata": {},
   "outputs": [],
   "source": [
    "data_f = pd.DataFrame(data_f)\n",
    "data_f = data_f.loc[data_f['Active_ind']=='TRUE']\n",
    "data_f = data_f[0:100]"
   ]
  },
  {
   "cell_type": "code",
   "execution_count": 99,
   "metadata": {},
   "outputs": [
    {
     "name": "stderr",
     "output_type": "stream",
     "text": [
      "[WDM] - ====== WebDriver manager ======\n",
      "[WDM] - Current google-chrome version is 89.0.4389\n",
      "[WDM] - Get LATEST driver version for 89.0.4389\n"
     ]
    },
    {
     "name": "stdout",
     "output_type": "stream",
     "text": [
      "\n",
      "\n"
     ]
    },
    {
     "name": "stderr",
     "output_type": "stream",
     "text": [
      "[WDM] - Driver [C:\\Users\\Dell\\.wdm\\drivers\\chromedriver\\win32\\89.0.4389.23\\chromedriver.exe] found in cache\n"
     ]
    },
    {
     "name": "stdout",
     "output_type": "stream",
     "text": [
      "Completed\n"
     ]
    }
   ],
   "source": [
    "url = \"http://checker.sindheducation.gov.pk/CheckBiometrics.aspx\"\n",
    "\n",
    "# create a new Firefox session\n",
    "driver = webdriver.Chrome(ChromeDriverManager().install())\n",
    "\n",
    "# driver = webdriver.Firefox(executable_path='E:/geckodriver-v0.29.0-win64/geckodriver.exe')\n",
    "driver.get(url)\n",
    "driver.implicitly_wait(5)\n",
    "\n",
    "\n",
    "# Search DDL\n",
    "search_ddl = driver.find_element_by_id(\"ContentPlaceHolder1_ddlSearchBy\")\n",
    "select = Select(search_ddl)\n",
    "select.select_by_index(1)\n",
    "time.sleep(4)\n",
    "data = True\n",
    "for index, row in data_f.iterrows():\n",
    "    search_text = driver.find_element_by_id(\"ContentPlaceHolder1_txtSearch\")\n",
    "    search_text.click()\n",
    "    search_text.clear()\n",
    "    search_text.send_keys(row['CNIC'])\n",
    "    search_text.send_keys(Keys.ENTER)\n",
    "    time.sleep(1)\n",
    "    search_button = driver.find_element_by_id(\"ContentPlaceHolder1_btn_search\")\n",
    "    search_button.click()\n",
    "    time.sleep(6)\n",
    "\n",
    "    try:\n",
    "        data_set = driver.find_element_by_xpath(\n",
    "            '//*[@id=\"ContentPlaceHolder1_gvDCDetails\"]/tbody/tr[2]/td[15]')\n",
    "        dict[column_name[0]] = row['CNIC']\n",
    "        dict[column_name[1]] = data_set.get_attribute('innerText')\n",
    "        # data = True\n",
    "    except:\n",
    "        dict[column_name[0]] = row['CNIC']\n",
    "        dict[column_name[1]] = 'Unmatched'\n",
    "        # data = False\n",
    "        # break\n",
    "\n",
    "    with open(r'D:\\StatusReport_Active.csv', 'a', newline='') as f_object:\n",
    "        dictwriter_object = csv.DictWriter(f_object, fieldnames=column_name)\n",
    "        if index == 0:\n",
    "            dictwriter_object.writeheader()\n",
    "        dictwriter_object.writerow(dict)\n",
    "        dict.clear()\n",
    "\n",
    "driver.quit();\n",
    "print(\"Completed\")"
   ]
  },
  {
   "cell_type": "markdown",
   "metadata": {},
   "source": [
    "##### Test Code"
   ]
  },
  {
   "cell_type": "code",
   "execution_count": 106,
   "metadata": {},
   "outputs": [
    {
     "name": "stderr",
     "output_type": "stream",
     "text": [
      "[WDM] - ====== WebDriver manager ======\n",
      "[WDM] - Current google-chrome version is 89.0.4389\n",
      "[WDM] - Get LATEST driver version for 89.0.4389\n"
     ]
    },
    {
     "name": "stdout",
     "output_type": "stream",
     "text": [
      "\n",
      "\n"
     ]
    },
    {
     "name": "stderr",
     "output_type": "stream",
     "text": [
      "[WDM] - Driver [C:\\Users\\Dell\\.wdm\\drivers\\chromedriver\\win32\\89.0.4389.23\\chromedriver.exe] found in cache\n"
     ]
    },
    {
     "name": "stdout",
     "output_type": "stream",
     "text": [
      "Record 0: Matched\n",
      "Record 1: Not Found/Unmatched\n",
      "Record 2: Not Found/Unmatched\n",
      "Record 3: Matched\n",
      "Record 4: Matched\n",
      "Record 5: Not Found/Unmatched\n",
      "Record 6: Matched\n",
      "Record 7: Matched\n",
      "Record 8: Matched\n",
      "Record 9: Matched\n",
      "Completed\n"
     ]
    }
   ],
   "source": [
    "data_f = pd.DataFrame(data_f)\n",
    "data_f = data_f.loc[data_f['Active_ind']=='TRUE']\n",
    "data_f = data_f[0:10]\n",
    "                \n",
    "url = \"http://checker.sindheducation.gov.pk/CheckBiometrics.aspx\"\n",
    "\n",
    "# create a new Firefox session\n",
    "driver = webdriver.Chrome(ChromeDriverManager().install())\n",
    "\n",
    "# driver = webdriver.Firefox(executable_path='E:/geckodriver-v0.29.0-win64/geckodriver.exe')\n",
    "driver.get(url)\n",
    "driver.implicitly_wait(5)\n",
    "\n",
    "\n",
    "# Search DDL\n",
    "search_ddl = driver.find_element_by_id(\"ContentPlaceHolder1_ddlSearchBy\")\n",
    "select = Select(search_ddl)\n",
    "select.select_by_index(1)\n",
    "time.sleep(4)\n",
    "data = True\n",
    "i = 0\n",
    "for index, row in data_f.iterrows():\n",
    "    search_text = driver.find_element_by_id(\"ContentPlaceHolder1_txtSearch\")\n",
    "    search_text.click()\n",
    "    search_text.clear()\n",
    "    search_text.send_keys(row['CNIC'])\n",
    "    search_text.send_keys(Keys.ENTER)\n",
    "    time.sleep(1)\n",
    "    search_button = driver.find_element_by_id(\"ContentPlaceHolder1_btn_search\")\n",
    "    search_button.click()\n",
    "    time.sleep(6)\n",
    "\n",
    "    try:\n",
    "        data_set = driver.find_element_by_xpath(\n",
    "            '//*[@id=\"ContentPlaceHolder1_gvDCDetails\"]/tbody/tr[2]/td[15]')\n",
    "        dict[column_name[0]] = row['CNIC']\n",
    "        dict[column_name[1]] = data_set.get_attribute('innerText')\n",
    "        print(\"Record \" + str(i) + \": Matched\")\n",
    "        # data = True\n",
    "    except:\n",
    "        dict[column_name[0]] = row['CNIC']\n",
    "        dict[column_name[1]] = 'Unmatched'\n",
    "        print(\"Record \" + str(i) + \": Not Found/Unmatched\")\n",
    "        # data = False\n",
    "        # break\n",
    "     \n",
    "    with open(r'D:\\Status_ActiveIndicators.csv', 'a', newline='') as f_object:\n",
    "        dictwriter_object = csv.DictWriter(f_object, fieldnames=column_name)\n",
    "        if index == 0:\n",
    "            dictwriter_object.writeheader()\n",
    "        dictwriter_object.writerow(dict)\n",
    "        dict.clear()\n",
    "    i = i + 1;\n",
    "driver.quit();\n",
    "print(\"Completed\")"
   ]
  },
  {
   "cell_type": "code",
   "execution_count": 107,
   "metadata": {},
   "outputs": [],
   "source": [
    "# data_f = pd.DataFrame(data_f)\n",
    "# data_f = data_f.loc[data_f['Active_ind']=='TRUE']\n",
    "# data_f = data_f[0:10]\n",
    "                \n",
    "# url = \"http://checker.sindheducation.gov.pk/CheckBiometrics.aspx\"\n",
    "\n",
    "# # create a new Firefox session\n",
    "# driver = webdriver.Chrome(ChromeDriverManager().install())\n",
    "\n",
    "# # driver = webdriver.Firefox(executable_path='E:/geckodriver-v0.29.0-win64/geckodriver.exe')\n",
    "# driver.get(url)\n",
    "# driver.implicitly_wait(5)\n",
    "\n",
    "\n",
    "# # Search DDL\n",
    "# search_ddl = driver.find_element_by_id(\"ContentPlaceHolder1_ddlSearchBy\")\n",
    "# select = Select(search_ddl)\n",
    "# select.select_by_index(1)\n",
    "# time.sleep(4)\n",
    "# data = True\n",
    "# i = 0\n",
    "# for index, row in data_f.iterrows():\n",
    "#     search_text = driver.find_element_by_id(\"ContentPlaceHolder1_txtSearch\")\n",
    "#     search_text.click()\n",
    "#     search_text.clear()\n",
    "#     search_text.send_keys(row['CNIC'])\n",
    "#     search_text.send_keys(Keys.ENTER)\n",
    "#     time.sleep(1)\n",
    "#     search_button = driver.find_element_by_id(\"ContentPlaceHolder1_btn_search\")\n",
    "#     search_button.click()\n",
    "#     time.sleep(6)\n",
    "\n",
    "#     try:\n",
    "#         data_set = driver.find_element_by_xpath(\n",
    "#             '//*[@id=\"ContentPlaceHolder1_gvDCDetails\"]/tbody/tr[2]/td[15]')\n",
    "#         dict[column_name[0]] = row['CNIC']\n",
    "#         dict[column_name[1]] = data_set.get_attribute('innerText')\n",
    "#         print(\"Record \" + str(i) + \": Matched\")\n",
    "#         # data = True\n",
    "#     except:\n",
    "#         dict[column_name[0]] = row['CNIC']\n",
    "#         dict[column_name[1]] = 'Unmatched'\n",
    "#         print(\"Record \" + str(i) + \": Not Found/Unmatched\")\n",
    "#         # data = False\n",
    "#         # break\n",
    "     \n",
    "#     with open(r'D:\\Status_ActiveIndicators.csv', 'a', newline='') as f_object:\n",
    "#         dictwriter_object = csv.DictWriter(f_object, fieldnames=column_name)\n",
    "#         if index == 0:\n",
    "#             dictwriter_object.writeheader()\n",
    "#         dictwriter_object.writerow(dict)\n",
    "#         dict.clear()\n",
    "#     i = i + 1;\n",
    "# driver.quit();\n",
    "# print(\"Completed\")"
   ]
  },
  {
   "cell_type": "code",
   "execution_count": 108,
   "metadata": {},
   "outputs": [],
   "source": [
    "\n",
    "# f = open('E:/DGME/allteachers.csv', 'r')\n",
    "# df = pd.DataFrame(file)\n",
    "# df[0:10]\n",
    "#f = open('E:/DGME/allteachers.csv', 'r')\n",
    "# with f:\n",
    "\n",
    "#     reader = csv.reader(f)\n",
    "\n",
    "#     for row in reader:\n",
    "#         for e in row:\n",
    "#             print(e)\n",
    "# file = csv.reader('E:/DGME/allteachers.csv')\n",
    "# file\n",
    "# df = pd.DataFrame(file)\n",
    "# #data_f = df[df['Active_ind']==\"TRUE\"] \n",
    "# df[0:10]\n",
    "# Read Record Set\n",
    "#     # Open an Excel workbook\n",
    "#     workbook = xlsxwriter.Workbook('D:\\StatusReport.xlsx')\n",
    "#     # Set up a format\n",
    "#     c_format_1 = workbook.add_format(properties={'bold': True, 'font_color': 'green'})\n",
    "#     c_format_2 = workbook.add_format(properties={'bold': True, 'font_color': 'red'})\n",
    "    \n",
    "#     # Create a sheet\n",
    "#     worksheet = workbook.add_worksheet('status_report')\n",
    "    \n",
    "#     # Write the headers\n",
    "#     for col_num, header in enumerate(column_name):\n",
    "#         worksheet.write(0,col_num, str(header))\n",
    "#     # Save the data from the OrderedDict into the excel sheet\n",
    "#     for row_data in enumerate(zip(*dict)):\n",
    "#         for cell_data in enumerate(row_data):\n",
    "#             if cell_data ==  \"Matched\":\n",
    "#                 worksheet.write(str(cell_data), c_format_1)\n",
    "#             else:\n",
    "#                 worksheet.write(str(cell_data), c_format_2)\n",
    "\n",
    "#     # Close the workbook\n",
    "#     workbook.close()"
   ]
  },
  {
   "cell_type": "code",
   "execution_count": null,
   "metadata": {},
   "outputs": [],
   "source": []
  }
 ],
 "metadata": {
  "kernelspec": {
   "display_name": "Python 3",
   "language": "python",
   "name": "python3"
  }
 },
 "nbformat": 4,
 "nbformat_minor": 4
}
